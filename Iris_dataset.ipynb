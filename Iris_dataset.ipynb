{
  "cells": [
    {
      "cell_type": "code",
      "source": [
        "!pip install lazypredict"
      ],
      "metadata": {
        "colab": {
          "base_uri": "https://localhost:8080/"
        },
        "id": "MtTXZBJqpasn",
        "outputId": "0d3e327b-058d-4b68-80b1-cf5a9475a2a0"
      },
      "id": "MtTXZBJqpasn",
      "execution_count": 2,
      "outputs": [
        {
          "output_type": "stream",
          "name": "stdout",
          "text": [
            "Collecting lazypredict\n",
            "  Downloading lazypredict-0.2.12-py2.py3-none-any.whl (12 kB)\n",
            "Requirement already satisfied: click in /usr/local/lib/python3.10/dist-packages (from lazypredict) (8.1.4)\n",
            "Requirement already satisfied: scikit-learn in /usr/local/lib/python3.10/dist-packages (from lazypredict) (1.2.2)\n",
            "Requirement already satisfied: pandas in /usr/local/lib/python3.10/dist-packages (from lazypredict) (1.5.3)\n",
            "Requirement already satisfied: tqdm in /usr/local/lib/python3.10/dist-packages (from lazypredict) (4.65.0)\n",
            "Requirement already satisfied: joblib in /usr/local/lib/python3.10/dist-packages (from lazypredict) (1.3.1)\n",
            "Requirement already satisfied: lightgbm in /usr/local/lib/python3.10/dist-packages (from lazypredict) (3.3.5)\n",
            "Requirement already satisfied: xgboost in /usr/local/lib/python3.10/dist-packages (from lazypredict) (1.7.6)\n",
            "Requirement already satisfied: wheel in /usr/local/lib/python3.10/dist-packages (from lightgbm->lazypredict) (0.40.0)\n",
            "Requirement already satisfied: numpy in /usr/local/lib/python3.10/dist-packages (from lightgbm->lazypredict) (1.22.4)\n",
            "Requirement already satisfied: scipy in /usr/local/lib/python3.10/dist-packages (from lightgbm->lazypredict) (1.10.1)\n",
            "Requirement already satisfied: threadpoolctl>=2.0.0 in /usr/local/lib/python3.10/dist-packages (from scikit-learn->lazypredict) (3.1.0)\n",
            "Requirement already satisfied: python-dateutil>=2.8.1 in /usr/local/lib/python3.10/dist-packages (from pandas->lazypredict) (2.8.2)\n",
            "Requirement already satisfied: pytz>=2020.1 in /usr/local/lib/python3.10/dist-packages (from pandas->lazypredict) (2022.7.1)\n",
            "Requirement already satisfied: six>=1.5 in /usr/local/lib/python3.10/dist-packages (from python-dateutil>=2.8.1->pandas->lazypredict) (1.16.0)\n",
            "Installing collected packages: lazypredict\n",
            "Successfully installed lazypredict-0.2.12\n"
          ]
        }
      ]
    },
    {
      "cell_type": "code",
      "execution_count": 3,
      "id": "e9e86d45",
      "metadata": {
        "id": "e9e86d45"
      },
      "outputs": [],
      "source": [
        "#import essentials libraries\n",
        "import pandas as pd\n",
        "import numpy as np\n",
        "import lazypredict"
      ]
    },
    {
      "cell_type": "code",
      "execution_count": 4,
      "id": "b63812bd",
      "metadata": {
        "colab": {
          "base_uri": "https://localhost:8080/",
          "height": 206
        },
        "id": "b63812bd",
        "outputId": "ca742a45-ece2-4162-838d-329b1fee416a"
      },
      "outputs": [
        {
          "output_type": "execute_result",
          "data": {
            "text/plain": [
              "   sepal_length  sepal_width  petal_length  petal_width      species\n",
              "0           5.1          3.5           1.4          0.2  Iris-setosa\n",
              "1           4.9          3.0           1.4          0.2  Iris-setosa\n",
              "2           4.7          3.2           1.3          0.2  Iris-setosa\n",
              "3           4.6          3.1           1.5          0.2  Iris-setosa\n",
              "4           5.0          3.6           1.4          0.2  Iris-setosa"
            ],
            "text/html": [
              "\n",
              "\n",
              "  <div id=\"df-3adeac38-143a-41fd-9b63-9d7bc8146a3f\">\n",
              "    <div class=\"colab-df-container\">\n",
              "      <div>\n",
              "<style scoped>\n",
              "    .dataframe tbody tr th:only-of-type {\n",
              "        vertical-align: middle;\n",
              "    }\n",
              "\n",
              "    .dataframe tbody tr th {\n",
              "        vertical-align: top;\n",
              "    }\n",
              "\n",
              "    .dataframe thead th {\n",
              "        text-align: right;\n",
              "    }\n",
              "</style>\n",
              "<table border=\"1\" class=\"dataframe\">\n",
              "  <thead>\n",
              "    <tr style=\"text-align: right;\">\n",
              "      <th></th>\n",
              "      <th>sepal_length</th>\n",
              "      <th>sepal_width</th>\n",
              "      <th>petal_length</th>\n",
              "      <th>petal_width</th>\n",
              "      <th>species</th>\n",
              "    </tr>\n",
              "  </thead>\n",
              "  <tbody>\n",
              "    <tr>\n",
              "      <th>0</th>\n",
              "      <td>5.1</td>\n",
              "      <td>3.5</td>\n",
              "      <td>1.4</td>\n",
              "      <td>0.2</td>\n",
              "      <td>Iris-setosa</td>\n",
              "    </tr>\n",
              "    <tr>\n",
              "      <th>1</th>\n",
              "      <td>4.9</td>\n",
              "      <td>3.0</td>\n",
              "      <td>1.4</td>\n",
              "      <td>0.2</td>\n",
              "      <td>Iris-setosa</td>\n",
              "    </tr>\n",
              "    <tr>\n",
              "      <th>2</th>\n",
              "      <td>4.7</td>\n",
              "      <td>3.2</td>\n",
              "      <td>1.3</td>\n",
              "      <td>0.2</td>\n",
              "      <td>Iris-setosa</td>\n",
              "    </tr>\n",
              "    <tr>\n",
              "      <th>3</th>\n",
              "      <td>4.6</td>\n",
              "      <td>3.1</td>\n",
              "      <td>1.5</td>\n",
              "      <td>0.2</td>\n",
              "      <td>Iris-setosa</td>\n",
              "    </tr>\n",
              "    <tr>\n",
              "      <th>4</th>\n",
              "      <td>5.0</td>\n",
              "      <td>3.6</td>\n",
              "      <td>1.4</td>\n",
              "      <td>0.2</td>\n",
              "      <td>Iris-setosa</td>\n",
              "    </tr>\n",
              "  </tbody>\n",
              "</table>\n",
              "</div>\n",
              "      <button class=\"colab-df-convert\" onclick=\"convertToInteractive('df-3adeac38-143a-41fd-9b63-9d7bc8146a3f')\"\n",
              "              title=\"Convert this dataframe to an interactive table.\"\n",
              "              style=\"display:none;\">\n",
              "\n",
              "  <svg xmlns=\"http://www.w3.org/2000/svg\" height=\"24px\"viewBox=\"0 0 24 24\"\n",
              "       width=\"24px\">\n",
              "    <path d=\"M0 0h24v24H0V0z\" fill=\"none\"/>\n",
              "    <path d=\"M18.56 5.44l.94 2.06.94-2.06 2.06-.94-2.06-.94-.94-2.06-.94 2.06-2.06.94zm-11 1L8.5 8.5l.94-2.06 2.06-.94-2.06-.94L8.5 2.5l-.94 2.06-2.06.94zm10 10l.94 2.06.94-2.06 2.06-.94-2.06-.94-.94-2.06-.94 2.06-2.06.94z\"/><path d=\"M17.41 7.96l-1.37-1.37c-.4-.4-.92-.59-1.43-.59-.52 0-1.04.2-1.43.59L10.3 9.45l-7.72 7.72c-.78.78-.78 2.05 0 2.83L4 21.41c.39.39.9.59 1.41.59.51 0 1.02-.2 1.41-.59l7.78-7.78 2.81-2.81c.8-.78.8-2.07 0-2.86zM5.41 20L4 18.59l7.72-7.72 1.47 1.35L5.41 20z\"/>\n",
              "  </svg>\n",
              "      </button>\n",
              "\n",
              "\n",
              "\n",
              "    <div id=\"df-1e306ae0-4d99-4973-8b0b-558e7182c697\">\n",
              "      <button class=\"colab-df-quickchart\" onclick=\"quickchart('df-1e306ae0-4d99-4973-8b0b-558e7182c697')\"\n",
              "              title=\"Suggest charts.\"\n",
              "              style=\"display:none;\">\n",
              "\n",
              "<svg xmlns=\"http://www.w3.org/2000/svg\" height=\"24px\"viewBox=\"0 0 24 24\"\n",
              "     width=\"24px\">\n",
              "    <g>\n",
              "        <path d=\"M19 3H5c-1.1 0-2 .9-2 2v14c0 1.1.9 2 2 2h14c1.1 0 2-.9 2-2V5c0-1.1-.9-2-2-2zM9 17H7v-7h2v7zm4 0h-2V7h2v10zm4 0h-2v-4h2v4z\"/>\n",
              "    </g>\n",
              "</svg>\n",
              "      </button>\n",
              "    </div>\n",
              "\n",
              "<style>\n",
              "  .colab-df-quickchart {\n",
              "    background-color: #E8F0FE;\n",
              "    border: none;\n",
              "    border-radius: 50%;\n",
              "    cursor: pointer;\n",
              "    display: none;\n",
              "    fill: #1967D2;\n",
              "    height: 32px;\n",
              "    padding: 0 0 0 0;\n",
              "    width: 32px;\n",
              "  }\n",
              "\n",
              "  .colab-df-quickchart:hover {\n",
              "    background-color: #E2EBFA;\n",
              "    box-shadow: 0px 1px 2px rgba(60, 64, 67, 0.3), 0px 1px 3px 1px rgba(60, 64, 67, 0.15);\n",
              "    fill: #174EA6;\n",
              "  }\n",
              "\n",
              "  [theme=dark] .colab-df-quickchart {\n",
              "    background-color: #3B4455;\n",
              "    fill: #D2E3FC;\n",
              "  }\n",
              "\n",
              "  [theme=dark] .colab-df-quickchart:hover {\n",
              "    background-color: #434B5C;\n",
              "    box-shadow: 0px 1px 3px 1px rgba(0, 0, 0, 0.15);\n",
              "    filter: drop-shadow(0px 1px 2px rgba(0, 0, 0, 0.3));\n",
              "    fill: #FFFFFF;\n",
              "  }\n",
              "</style>\n",
              "\n",
              "    <script>\n",
              "      async function quickchart(key) {\n",
              "        const containerElement = document.querySelector('#' + key);\n",
              "        const charts = await google.colab.kernel.invokeFunction(\n",
              "            'suggestCharts', [key], {});\n",
              "      }\n",
              "    </script>\n",
              "\n",
              "      <script>\n",
              "\n",
              "function displayQuickchartButton(domScope) {\n",
              "  let quickchartButtonEl =\n",
              "    domScope.querySelector('#df-1e306ae0-4d99-4973-8b0b-558e7182c697 button.colab-df-quickchart');\n",
              "  quickchartButtonEl.style.display =\n",
              "    google.colab.kernel.accessAllowed ? 'block' : 'none';\n",
              "}\n",
              "\n",
              "        displayQuickchartButton(document);\n",
              "      </script>\n",
              "      <style>\n",
              "    .colab-df-container {\n",
              "      display:flex;\n",
              "      flex-wrap:wrap;\n",
              "      gap: 12px;\n",
              "    }\n",
              "\n",
              "    .colab-df-convert {\n",
              "      background-color: #E8F0FE;\n",
              "      border: none;\n",
              "      border-radius: 50%;\n",
              "      cursor: pointer;\n",
              "      display: none;\n",
              "      fill: #1967D2;\n",
              "      height: 32px;\n",
              "      padding: 0 0 0 0;\n",
              "      width: 32px;\n",
              "    }\n",
              "\n",
              "    .colab-df-convert:hover {\n",
              "      background-color: #E2EBFA;\n",
              "      box-shadow: 0px 1px 2px rgba(60, 64, 67, 0.3), 0px 1px 3px 1px rgba(60, 64, 67, 0.15);\n",
              "      fill: #174EA6;\n",
              "    }\n",
              "\n",
              "    [theme=dark] .colab-df-convert {\n",
              "      background-color: #3B4455;\n",
              "      fill: #D2E3FC;\n",
              "    }\n",
              "\n",
              "    [theme=dark] .colab-df-convert:hover {\n",
              "      background-color: #434B5C;\n",
              "      box-shadow: 0px 1px 3px 1px rgba(0, 0, 0, 0.15);\n",
              "      filter: drop-shadow(0px 1px 2px rgba(0, 0, 0, 0.3));\n",
              "      fill: #FFFFFF;\n",
              "    }\n",
              "  </style>\n",
              "\n",
              "      <script>\n",
              "        const buttonEl =\n",
              "          document.querySelector('#df-3adeac38-143a-41fd-9b63-9d7bc8146a3f button.colab-df-convert');\n",
              "        buttonEl.style.display =\n",
              "          google.colab.kernel.accessAllowed ? 'block' : 'none';\n",
              "\n",
              "        async function convertToInteractive(key) {\n",
              "          const element = document.querySelector('#df-3adeac38-143a-41fd-9b63-9d7bc8146a3f');\n",
              "          const dataTable =\n",
              "            await google.colab.kernel.invokeFunction('convertToInteractive',\n",
              "                                                     [key], {});\n",
              "          if (!dataTable) return;\n",
              "\n",
              "          const docLinkHtml = 'Like what you see? Visit the ' +\n",
              "            '<a target=\"_blank\" href=https://colab.research.google.com/notebooks/data_table.ipynb>data table notebook</a>'\n",
              "            + ' to learn more about interactive tables.';\n",
              "          element.innerHTML = '';\n",
              "          dataTable['output_type'] = 'display_data';\n",
              "          await google.colab.output.renderOutput(dataTable, element);\n",
              "          const docLink = document.createElement('div');\n",
              "          docLink.innerHTML = docLinkHtml;\n",
              "          element.appendChild(docLink);\n",
              "        }\n",
              "      </script>\n",
              "    </div>\n",
              "  </div>\n"
            ]
          },
          "metadata": {},
          "execution_count": 4
        }
      ],
      "source": [
        "data=pd.read_csv(\"IRIS.csv\")\n",
        "data.head()\n"
      ]
    },
    {
      "cell_type": "code",
      "execution_count": null,
      "id": "0f5f2c9c",
      "metadata": {
        "id": "0f5f2c9c"
      },
      "outputs": [],
      "source": [
        "x=data.drop(['species'],axis=1)\n",
        "y=data['species']"
      ]
    },
    {
      "cell_type": "code",
      "execution_count": null,
      "id": "4cc39387",
      "metadata": {
        "id": "4cc39387"
      },
      "outputs": [],
      "source": [
        "from lazypredict.Supervised import LazyClassifier\n",
        "from sklearn.model_selection import train_test_split"
      ]
    },
    {
      "cell_type": "code",
      "execution_count": null,
      "id": "58a8f3e2",
      "metadata": {
        "id": "58a8f3e2"
      },
      "outputs": [],
      "source": [
        "xtrain,xtest,ytrain,ytest=train_test_split(x,y,test_size=0.2,random_state=0)"
      ]
    },
    {
      "cell_type": "code",
      "execution_count": null,
      "id": "5e92d322",
      "metadata": {
        "id": "5e92d322",
        "outputId": "8c1a3434-fc79-494e-cf96-4187b0304d23"
      },
      "outputs": [
        {
          "name": "stderr",
          "output_type": "stream",
          "text": [
            "100%|██████████████████████████████████████████████████████████████████████████████████| 29/29 [00:02<00:00, 13.15it/s]\n"
          ]
        }
      ],
      "source": [
        "clf=LazyClassifier(verbose=0,ignore_warnings=True, custom_metric=None)\n",
        "models,pred=clf.fit(xtrain,xtest,ytrain,ytest)"
      ]
    },
    {
      "cell_type": "code",
      "execution_count": null,
      "id": "c02e4220",
      "metadata": {
        "id": "c02e4220",
        "outputId": "1c4dc29b-1f59-413c-d657-ae54de114d38"
      },
      "outputs": [
        {
          "name": "stdout",
          "output_type": "stream",
          "text": [
            "                               Accuracy  Balanced Accuracy ROC AUC  F1 Score  \\\n",
            "Model                                                                          \n",
            "LGBMClassifier                     1.00               1.00    None      1.00   \n",
            "BaggingClassifier                  1.00               1.00    None      1.00   \n",
            "SVC                                1.00               1.00    None      1.00   \n",
            "SGDClassifier                      1.00               1.00    None      1.00   \n",
            "DecisionTreeClassifier             1.00               1.00    None      1.00   \n",
            "RandomForestClassifier             1.00               1.00    None      1.00   \n",
            "QuadraticDiscriminantAnalysis      1.00               1.00    None      1.00   \n",
            "ExtraTreesClassifier               1.00               1.00    None      1.00   \n",
            "KNeighborsClassifier               1.00               1.00    None      1.00   \n",
            "NuSVC                              1.00               1.00    None      1.00   \n",
            "LogisticRegression                 1.00               1.00    None      1.00   \n",
            "LinearDiscriminantAnalysis         1.00               1.00    None      1.00   \n",
            "Perceptron                         0.97               0.94    None      0.97   \n",
            "AdaBoostClassifier                 0.97               0.94    None      0.97   \n",
            "LabelSpreading                     0.97               0.94    None      0.97   \n",
            "LabelPropagation                   0.97               0.94    None      0.97   \n",
            "GaussianNB                         0.97               0.94    None      0.97   \n",
            "ExtraTreeClassifier                0.97               0.94    None      0.97   \n",
            "LinearSVC                          0.97               0.94    None      0.97   \n",
            "RidgeClassifier                    0.80               0.82    None      0.81   \n",
            "RidgeClassifierCV                  0.80               0.82    None      0.81   \n",
            "CalibratedClassifierCV             0.80               0.82    None      0.81   \n",
            "PassiveAggressiveClassifier        0.83               0.77    None      0.83   \n",
            "NearestCentroid                    0.80               0.76    None      0.80   \n",
            "BernoulliNB                        0.63               0.66    None      0.62   \n",
            "DummyClassifier                    0.20               0.33    None      0.07   \n",
            "\n",
            "                               Time Taken  \n",
            "Model                                      \n",
            "LGBMClassifier                       0.08  \n",
            "BaggingClassifier                    0.05  \n",
            "SVC                                  0.01  \n",
            "SGDClassifier                        0.03  \n",
            "DecisionTreeClassifier               0.02  \n",
            "RandomForestClassifier               0.19  \n",
            "QuadraticDiscriminantAnalysis        0.02  \n",
            "ExtraTreesClassifier                 0.14  \n",
            "KNeighborsClassifier                 0.04  \n",
            "NuSVC                                0.02  \n",
            "LogisticRegression                   0.02  \n",
            "LinearDiscriminantAnalysis           0.05  \n",
            "Perceptron                           0.02  \n",
            "AdaBoostClassifier                   0.10  \n",
            "LabelSpreading                       0.00  \n",
            "LabelPropagation                     0.02  \n",
            "GaussianNB                           0.00  \n",
            "ExtraTreeClassifier                  0.01  \n",
            "LinearSVC                            0.03  \n",
            "RidgeClassifier                      0.04  \n",
            "RidgeClassifierCV                    0.02  \n",
            "CalibratedClassifierCV               0.08  \n",
            "PassiveAggressiveClassifier          0.02  \n",
            "NearestCentroid                      0.01  \n",
            "BernoulliNB                          0.06  \n",
            "DummyClassifier                      0.02  \n"
          ]
        }
      ],
      "source": [
        "print(models)"
      ]
    },
    {
      "cell_type": "code",
      "execution_count": null,
      "id": "f3c8c28c",
      "metadata": {
        "id": "f3c8c28c"
      },
      "outputs": [],
      "source": [
        "from sklearn.ensemble import RandomForestClassifier\n",
        "\n",
        "classifier=RandomForestClassifier()\n",
        "classifier.fit(xtrain,ytrain)\n",
        "ypred=classifier.predict(xtest)"
      ]
    },
    {
      "cell_type": "code",
      "execution_count": null,
      "id": "2c124246",
      "metadata": {
        "id": "2c124246",
        "outputId": "82a6bdf5-b0af-4e3f-e483-cfaa0c76cbb7"
      },
      "outputs": [
        {
          "name": "stdout",
          "output_type": "stream",
          "text": [
            "[[11  0  0]\n",
            " [ 0 13  0]\n",
            " [ 0  0  6]]\n"
          ]
        }
      ],
      "source": [
        "from sklearn.metrics import classification_report,confusion_matrix,accuracy_score\n",
        "\n",
        "print(confusion_matrix(ytest,ypred))"
      ]
    },
    {
      "cell_type": "code",
      "execution_count": null,
      "id": "008b0a8a",
      "metadata": {
        "id": "008b0a8a",
        "outputId": "67f3f48f-6459-4e1b-d61b-b9390c0c0523"
      },
      "outputs": [
        {
          "name": "stdout",
          "output_type": "stream",
          "text": [
            "                 precision    recall  f1-score   support\n",
            "\n",
            "    Iris-setosa       1.00      1.00      1.00        11\n",
            "Iris-versicolor       1.00      1.00      1.00        13\n",
            " Iris-virginica       1.00      1.00      1.00         6\n",
            "\n",
            "       accuracy                           1.00        30\n",
            "      macro avg       1.00      1.00      1.00        30\n",
            "   weighted avg       1.00      1.00      1.00        30\n",
            "\n"
          ]
        }
      ],
      "source": [
        "print(classification_report(ytest,ypred))"
      ]
    },
    {
      "cell_type": "code",
      "execution_count": null,
      "id": "b2502e5f",
      "metadata": {
        "id": "b2502e5f",
        "outputId": "3e259b5e-4110-4163-cc22-d39255f447fa"
      },
      "outputs": [
        {
          "name": "stdout",
          "output_type": "stream",
          "text": [
            "1.0\n"
          ]
        }
      ],
      "source": [
        "print(accuracy_score(ytest,ypred))"
      ]
    },
    {
      "cell_type": "code",
      "execution_count": null,
      "id": "92108592",
      "metadata": {
        "id": "92108592",
        "outputId": "1fb24ecb-1db9-49e0-a57b-167aef74952b"
      },
      "outputs": [
        {
          "data": {
            "text/html": [
              "<div>\n",
              "<style scoped>\n",
              "    .dataframe tbody tr th:only-of-type {\n",
              "        vertical-align: middle;\n",
              "    }\n",
              "\n",
              "    .dataframe tbody tr th {\n",
              "        vertical-align: top;\n",
              "    }\n",
              "\n",
              "    .dataframe thead th {\n",
              "        text-align: right;\n",
              "    }\n",
              "</style>\n",
              "<table border=\"1\" class=\"dataframe\">\n",
              "  <thead>\n",
              "    <tr style=\"text-align: right;\">\n",
              "      <th></th>\n",
              "      <th>sepal_length</th>\n",
              "      <th>sepal_width</th>\n",
              "      <th>petal_length</th>\n",
              "      <th>petal_width</th>\n",
              "      <th>species</th>\n",
              "    </tr>\n",
              "  </thead>\n",
              "  <tbody>\n",
              "    <tr>\n",
              "      <th>145</th>\n",
              "      <td>6.70</td>\n",
              "      <td>3.00</td>\n",
              "      <td>5.20</td>\n",
              "      <td>2.30</td>\n",
              "      <td>Iris-virginica</td>\n",
              "    </tr>\n",
              "    <tr>\n",
              "      <th>146</th>\n",
              "      <td>6.30</td>\n",
              "      <td>2.50</td>\n",
              "      <td>5.00</td>\n",
              "      <td>1.90</td>\n",
              "      <td>Iris-virginica</td>\n",
              "    </tr>\n",
              "    <tr>\n",
              "      <th>147</th>\n",
              "      <td>6.50</td>\n",
              "      <td>3.00</td>\n",
              "      <td>5.20</td>\n",
              "      <td>2.00</td>\n",
              "      <td>Iris-virginica</td>\n",
              "    </tr>\n",
              "    <tr>\n",
              "      <th>148</th>\n",
              "      <td>6.20</td>\n",
              "      <td>3.40</td>\n",
              "      <td>5.40</td>\n",
              "      <td>2.30</td>\n",
              "      <td>Iris-virginica</td>\n",
              "    </tr>\n",
              "    <tr>\n",
              "      <th>149</th>\n",
              "      <td>5.90</td>\n",
              "      <td>3.00</td>\n",
              "      <td>5.10</td>\n",
              "      <td>1.80</td>\n",
              "      <td>Iris-virginica</td>\n",
              "    </tr>\n",
              "  </tbody>\n",
              "</table>\n",
              "</div>"
            ],
            "text/plain": [
              "     sepal_length  sepal_width  petal_length  petal_width         species\n",
              "145          6.70         3.00          5.20         2.30  Iris-virginica\n",
              "146          6.30         2.50          5.00         1.90  Iris-virginica\n",
              "147          6.50         3.00          5.20         2.00  Iris-virginica\n",
              "148          6.20         3.40          5.40         2.30  Iris-virginica\n",
              "149          5.90         3.00          5.10         1.80  Iris-virginica"
            ]
          },
          "execution_count": 21,
          "metadata": {},
          "output_type": "execute_result"
        }
      ],
      "source": [
        "data.tail()"
      ]
    },
    {
      "cell_type": "code",
      "execution_count": null,
      "id": "0660fba7",
      "metadata": {
        "id": "0660fba7",
        "outputId": "963a07c7-6c75-46e7-e603-71e7d83247c7"
      },
      "outputs": [
        {
          "name": "stdout",
          "output_type": "stream",
          "text": [
            "['Iris-virginica']\n"
          ]
        },
        {
          "name": "stderr",
          "output_type": "stream",
          "text": [
            "C:\\ProgramData\\anaconda3\\lib\\site-packages\\sklearn\\base.py:439: UserWarning: X does not have valid feature names, but RandomForestClassifier was fitted with feature names\n",
            "  warnings.warn(\n"
          ]
        }
      ],
      "source": [
        "print(classifier.predict((np.array([[4,3,3,4]]))))"
      ]
    },
    {
      "cell_type": "raw",
      "id": "fefb3ab8",
      "metadata": {
        "id": "fefb3ab8"
      },
      "source": []
    }
  ],
  "metadata": {
    "kernelspec": {
      "display_name": "Python 3 (ipykernel)",
      "language": "python",
      "name": "python3"
    },
    "language_info": {
      "codemirror_mode": {
        "name": "ipython",
        "version": 3
      },
      "file_extension": ".py",
      "mimetype": "text/x-python",
      "name": "python",
      "nbconvert_exporter": "python",
      "pygments_lexer": "ipython3",
      "version": "3.10.9"
    },
    "colab": {
      "provenance": []
    }
  },
  "nbformat": 4,
  "nbformat_minor": 5
}